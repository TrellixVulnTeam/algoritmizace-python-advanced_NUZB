{
 "cells": [
  {
   "cell_type": "markdown",
   "metadata": {},
   "source": [
    "# Algoritmizace a programování 2"
   ]
  },
  {
   "cell_type": "markdown",
   "metadata": {},
   "source": [
    "## Cv.8. Seminární práce\n",
    "\n",
    "Jedna z možností jak získat body navíc k získání zápočtu je vypracování seminární práce. Seminární práci je možné naprogramovat pouze jednu a její hodnocení bude v rozmezí 0 až 10 bodů. Hodnotí se následující:\n",
    "* Znalost kódu (nutné chápat každý řádek kódu jinak automaticky 0 bodů z celého projektu)\n",
    "* Kvalita odprezentování projektu (0 až 2 body) - jak srozumitelně umíte práci odprezentovat\n",
    "* Kvalita objektového návrhu (0 až 2 body) - jak využíváte efektivně možností OO paradigmatu\n",
    "* Kvalita kódové implementace (0 až 2 body) - jak moc prasácký/kvalitní kód máte\n",
    "* Kvalita algoritmizace (0 až 2 body) - zda děláte zbytečné kroky nebo ne\n",
    "* Kvalita dokumentace (0 až 2 body) - typografická, gramatická, pravopisná a estetická stránka\n",
    "\n",
    "Před prezentováním projektu odevzdáte dokumentaci k projektu ve formátu PDF. Dokumentace bude obsahovat následující části:\n",
    "1. Přední stránka (logo, jméno, datum odevzdání, název projektu atd.)\n",
    "2. Úvod (o čem je vaše seminární práce)\n",
    "3. Rešerše (popíšete problematiku se zdroji)\n",
    "4. Implementace (váš kód s komentářem a obrázky, třídní diagramy)\n",
    "5. Závěr (co se povedlo, nepovedlo, hlavně nepište subjektivní pocity typu: \"práce mě moc bavila\")\n",
    "\n",
    "Témata seminárních prací jsou: \n",
    "* Objektově-orientovaná verze hry dáma nebo šachy\n",
    "* Prohledávání do šířky pomocí fronty\n",
    "* Prohledávání do hloubky pomocí zásobníku"
   ]
  },
  {
   "cell_type": "markdown",
   "metadata": {},
   "source": [
    "### 8.1 Objektově-orientovaná verze hry dáma nebo šachy\n",
    "\n",
    "Tato úloha je určena pro méně vědecky zaměřené studenty. Cílem je naprogramovat hru dáma (nebo šachy pro odvážlivce) s jednoduchým uživatelským rozhraním. Doporučenou knihovnou pro uživatelské rozhraní je Pygame, avšak uživatelsky přívětivá konzolovka může být taky přijata. Hra bude naprogramována objektově-orientovaně a bude na to kladen značný důraz při hodnocení. \n",
    "\n",
    "Zdroj k samostudiu: [Pygame](https://realpython.com/pygame-a-primer/)\n",
    "\n",
    "Ukázka hotového školního projektu za 7 dnů: [Šachy v Pythonu](https://levelup.gitconnected.com/chess-python-ca4532c7f5a4)"
   ]
  },
  {
   "cell_type": "markdown",
   "metadata": {},
   "source": [
    "### 8.2 Prohledávání do šířky pomocí fronty\n",
    "\n",
    "Prohledávání stavového prostoru do šířky je jedním ze základních algoritmů, který se využívá v mnoha aplikacích - hledání nejkratší cesty, analýza sociálních sítí, GPS navigační systém atd. Princip spočívá v procházení (traverzování) spojovou datovou strukturou úroveň po úrovni (v případě stromu by to bylo nejprve první patro, pak druhé patro). Tím se například postupně rozšiřuje u analýzy přátel na sociálních sítích okruh přátel (přítel přítele, přítel přítele přítele, atd.). Algoritmus se technicky realizuje pomocí fronty. Vaším úkolem je seznámit se s algoritmem, vybrat si jednou aplikaci kde algoritmus použijete a naprogramujte. \n",
    "\n",
    "Zdroj k samostudiu: [BFS1](https://cp-algorithms.com/graph/breadth-first-search.html)\n",
    "\n",
    "Zdroj k samostudiu: [BFS2](https://www.geeksforgeeks.org/applications-of-breadth-first-traversal/)"
   ]
  },
  {
   "cell_type": "markdown",
   "metadata": {},
   "source": [
    "### 8.3 Prohledávání do hloubky pomocí zásobníku\n",
    "\n",
    "Prohledávání stavového prostoru do hloubky je jedním ze základních algoritmů, který se využívá v mnoha aplikacích - hledání cesty bludištěm, hledání cest botů ve hrách (path-finding), detekce kružnic v grafech, topologické řazení grafu (plánování postupu) atd. Princip spočívá v procházení (traverzování) spojovou datovou strukturou větev po větvi (v případě stromu by to bylo nejprve větev nejvíce vlevo, pak druhá větev). Tím se například hledá první vhodné řešení nějakého logického problému jako například nalezení cesty přes překážky. Algoritmus se technicky realizuje pomocí zásobníku. Vaším úkolem je seznámit se s algoritmem, vybrat si jednou aplikaci kde algoritmus použijete a naprogramujte.\n",
    "\n",
    "Zdroj k samostudiu: [DFS1](https://cp-algorithms.com/graph/depth-first-search.html)\n",
    "\n",
    "Zdroj k samostudiu: [DFS2](https://www.geeksforgeeks.org/applications-of-depth-first-search/)"
   ]
  }
 ],
 "metadata": {
  "language_info": {
   "name": "python"
  },
  "orig_nbformat": 4
 },
 "nbformat": 4,
 "nbformat_minor": 2
}
